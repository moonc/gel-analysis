{
 "cells": [
  {
   "cell_type": "code",
   "execution_count": 1,
   "metadata": {},
   "outputs": [
    {
     "data": {
      "text/plain": [
       "'c:\\\\Users\\\\allen\\\\Documents\\\\GitHub\\\\gel-analysis\\\\literature'"
      ]
     },
     "execution_count": 1,
     "metadata": {},
     "output_type": "execute_result"
    }
   ],
   "source": [
    "def handle_path():\n",
    "    import os\n",
    "    pathing = os.getcwd()\n",
    "    absolute = os.path.dirname(pathing)\n",
    "    relative = \"gel-analysis\\literature\"\n",
    "    full_path = os.path.join(absolute,relative)\n",
    "    return full_path\n",
    "\n",
    "handle_path()"
   ]
  },
  {
   "cell_type": "code",
   "execution_count": 16,
   "metadata": {},
   "outputs": [],
   "source": [
    "import fitz  # PyMuPDF\n",
    "def extract_images(f,dir):\n",
    "    file = handle_path()+f \n",
    "    pdf_file = fitz.open(file)\n",
    "\n",
    "    for page_index in range(len(pdf_file)):\n",
    "\n",
    "    # get the page itself\n",
    "        page = pdf_file.load_page(page_index) \n",
    "        image_list = page.get_images(full=True)\n",
    "    \n",
    "        for image_index, img in enumerate(image_list, start=1):\n",
    "            xref = img[0]\n",
    "\n",
    "            base_image = pdf_file.extract_image(xref)\n",
    "            image_bytes = base_image[\"image\"]\n",
    "\n",
    "            image_ext = base_image[\"ext\"]\n",
    "\n",
    "            image_name = f\"{str(f)[1:-4]}_{page_index+1}_{image_index}.{image_ext}\"\n",
    "            with open(handle_path()+'\\\\'+dir+\"\\\\\"+image_name, \"wb\") as image_file:\n",
    "                image_file.write(image_bytes)\n",
    "    print(f'{str(f)[1:-4]} has been extracted from')\n"
   ]
  },
  {
   "cell_type": "code",
   "execution_count": 5,
   "metadata": {},
   "outputs": [
    {
     "data": {
      "text/plain": [
       "['LectinasITC-UPG.pdf']"
      ]
     },
     "execution_count": 5,
     "metadata": {},
     "output_type": "execute_result"
    }
   ],
   "source": [
    "def get_files():\n",
    "    import os\n",
    "    files = []\n",
    "    path = handle_path()\n",
    "    directory_list = os.listdir(path)\n",
    "\n",
    "    for x in directory_list:\n",
    "        if x[-4:] == \".pdf\":\n",
    "            files.append(x)\n",
    "    return files\n",
    "\n",
    "get_files()"
   ]
  },
  {
   "cell_type": "code",
   "execution_count": 17,
   "metadata": {},
   "outputs": [],
   "source": [
    "def make_dir(filename):\n",
    "    import os\n",
    "    try:\n",
    "        os.mkdir(handle_path()+'\\\\'+filename)\n",
    "    except FileExistsError:\n",
    "        print(f\"Directory '{filename}' already exists.\")\n",
    "    except PermissionError:\n",
    "        print(f\"Permission denied: Unable to create '{filename}'.\")\n",
    "    except Exception as e:\n",
    "        print(f\"An error occurred: {e}\")"
   ]
  },
  {
   "cell_type": "code",
   "execution_count": 18,
   "metadata": {},
   "outputs": [
    {
     "name": "stdout",
     "output_type": "stream",
     "text": [
      "LectinasITC-UPG has been extracted from\n"
     ]
    }
   ],
   "source": [
    "def auto_extract():\n",
    "    '''Execute this method if you would like to drop in all pdfs to the Literature folder and extract ALL images'''\n",
    "    for x in get_files():\n",
    "        dirs = x[:-4]\n",
    "        file_path = \"\\\\\"+x\n",
    "        make_dir(dirs)  \n",
    "        extract_images(file_path,dirs)\n",
    "        \n",
    "\n",
    "auto_extract()"
   ]
  },
  {
   "cell_type": "code",
   "execution_count": null,
   "metadata": {},
   "outputs": [],
   "source": []
  }
 ],
 "metadata": {
  "kernelspec": {
   "display_name": "Python 3",
   "language": "python",
   "name": "python3"
  },
  "language_info": {
   "codemirror_mode": {
    "name": "ipython",
    "version": 3
   },
   "file_extension": ".py",
   "mimetype": "text/x-python",
   "name": "python",
   "nbconvert_exporter": "python",
   "pygments_lexer": "ipython3",
   "version": "3.10.11"
  }
 },
 "nbformat": 4,
 "nbformat_minor": 2
}
